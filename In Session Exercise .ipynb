{
 "cells": [
  {
   "cell_type": "markdown",
   "metadata": {},
   "source": [
    "## Say for district \"Mumbai\"\n",
    "\n"
   ]
  },
  {
   "cell_type": "markdown",
   "metadata": {},
   "source": [
    "## infected_total_till_date=136596\n",
    "## recoverd_till_date=67890\n",
    "## death_till_dates=5732\n",
    "## population=500000"
   ]
  },
  {
   "cell_type": "code",
   "execution_count": 5,
   "metadata": {},
   "outputs": [],
   "source": [
    "infected=136596\n",
    "recovered=67890\n",
    "deaths=5732\n",
    "population=500000\n",
    "\n"
   ]
  },
  {
   "cell_type": "markdown",
   "metadata": {},
   "source": [
    "## Use Ifr,Cmr function and calculate the IFR, CMR"
   ]
  },
  {
   "cell_type": "code",
   "execution_count": 7,
   "metadata": {},
   "outputs": [
    {
     "name": "stdout",
     "output_type": "stream",
     "text": [
      "the IFR=4.196316143957364%\n",
      "the CMR=1.1464%\n"
     ]
    }
   ],
   "source": [
    "def IFR(deaths,infected):\n",
    "    IFR=(deaths/infected)*100;\n",
    "    print(\"the IFR={}%\".format(IFR))\n",
    "def CMR(population,deaths):\n",
    "    CMR=(deaths/population)*100\n",
    "    print(\"the CMR={}%\".format(CMR))\n",
    "\n",
    "IFR(deaths,infected)\n",
    "CMR(population,deaths)\n"
   ]
  },
  {
   "cell_type": "code",
   "execution_count": 9,
   "metadata": {},
   "outputs": [
    {
     "name": "stdout",
     "output_type": "stream",
     "text": [
      "infected_total_till_date =136596\n",
      "recovered_cases till date=67890\n",
      "deaths cases till date =5732\n",
      "population=500000\n",
      "the IFR=4.196316143957364%\n",
      "the CMR=1.1464%\n"
     ]
    }
   ],
   "source": [
    "print(\"infected_total_till_date ={}\".format(infected))\n",
    "\n",
    "print(\"recovered_cases till date={}\".format(recovered))\n",
    "print(\"deaths cases till date ={}\".format(deaths)) \n",
    "print(\"population={}\".format(population))\n",
    "IFR(deaths,infected)\n",
    "CMR(population,deaths)\n"
   ]
  },
  {
   "cell_type": "code",
   "execution_count": null,
   "metadata": {},
   "outputs": [],
   "source": []
  }
 ],
 "metadata": {
  "kernelspec": {
   "display_name": "Python 3",
   "language": "python",
   "name": "python3"
  },
  "language_info": {
   "codemirror_mode": {
    "name": "ipython",
    "version": 3
   },
   "file_extension": ".py",
   "mimetype": "text/x-python",
   "name": "python",
   "nbconvert_exporter": "python",
   "pygments_lexer": "ipython3",
   "version": "3.8.3"
  }
 },
 "nbformat": 4,
 "nbformat_minor": 4
}
