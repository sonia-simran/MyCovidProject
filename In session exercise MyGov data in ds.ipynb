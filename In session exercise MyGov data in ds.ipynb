{
 "cells": [
  {
   "cell_type": "markdown",
   "metadata": {},
   "source": [
    "## In session exercise   Sample [5 elements each)  data structures from corona live data from MyGov"
   ]
  },
  {
   "cell_type": "markdown",
   "metadata": {},
   "source": [
    "## List1 No of the state  "
   ]
  },
  {
   "cell_type": "code",
   "execution_count": 7,
   "metadata": {},
   "outputs": [
    {
     "data": {
      "text/plain": [
       "['Bihar', 'Assam', 'Delhi', 'Goa', 'kerala', 'sikim']"
      ]
     },
     "execution_count": 7,
     "metadata": {},
     "output_type": "execute_result"
    }
   ],
   "source": [
    "list1 =[\"Bihar\",\"Assam\",\"Delhi\",\"Goa\",\"kerala\",\"sikim\"]\n",
    "list1"
   ]
  },
  {
   "cell_type": "markdown",
   "metadata": {},
   "source": [
    "## List2 infected no of states in List1"
   ]
  },
  {
   "cell_type": "code",
   "execution_count": 8,
   "metadata": {},
   "outputs": [
    {
     "data": {
      "text/plain": [
       "['10249', '8542', '89802', '1387', '4593', '101', '990', '14941']"
      ]
     },
     "execution_count": 8,
     "metadata": {},
     "output_type": "execute_result"
    }
   ],
   "source": [
    "list2 = [\"10249\",\"8542\",\"89802\",\"1387\",\"4593\",\"101\",\"990\",\"14941\"]\n",
    "list2"
   ]
  },
  {
   "cell_type": "markdown",
   "metadata": {},
   "source": [
    "## Numbered of recovered cases statewise through tuple "
   ]
  },
  {
   "cell_type": "code",
   "execution_count": 9,
   "metadata": {},
   "outputs": [
    {
     "data": {
      "text/plain": [
       "('7946', '5851', '59992', '670', '10499', '2439', '53', '694', '240')"
      ]
     },
     "execution_count": 9,
     "metadata": {},
     "output_type": "execute_result"
    }
   ],
   "source": [
    "tp_recovered_case = (\"7946\",\"5851\",\"59992\",\"670\",\"10499\",\"2439\",\"53\",\"694\",\"240\")\n",
    "tp_recovered_case"
   ]
  },
  {
   "cell_type": "code",
   "execution_count": 4,
   "metadata": {},
   "outputs": [],
   "source": [
    "## Dictionery State :Infected"
   ]
  },
  {
   "cell_type": "code",
   "execution_count": 10,
   "metadata": {},
   "outputs": [
    {
     "data": {
      "text/plain": [
       "{'Bihar': 10249,\n",
       " 'Assam': 8542,\n",
       " 'Delhi': 89802,\n",
       " 'Goa': 1387,\n",
       " 'kerala': 4593,\n",
       " 'sikim': 101,\n",
       " 'Ladakh': 990,\n",
       " 'Haryana': 14941}"
      ]
     },
     "execution_count": 10,
     "metadata": {},
     "output_type": "execute_result"
    }
   ],
   "source": [
    "dict = {\"Bihar\":10249,\"Assam\":8542,\"Delhi\":89802,\"Goa\":1387,\"kerala\":4593,\"sikim\":101,\"Ladakh\":990,\"Haryana\":14941}\n",
    "dict"
   ]
  },
  {
   "cell_type": "code",
   "execution_count": 12,
   "metadata": {},
   "outputs": [
    {
     "name": "stdout",
     "output_type": "stream",
     "text": [
      "State wise Infected COVID19 cases\n",
      "Bihar: 10249\n",
      "Assam: 8542\n",
      "Delhi: 89802\n",
      "Goa: 1387\n",
      "kerala: 4593\n",
      "sikim: 101\n"
     ]
    }
   ],
   "source": [
    "print(\"State wise Infected COVID19 cases\")\n",
    "for i in range(len(list1)):\n",
    " print(list1[i]+\": \"+str(list2[i]))\n"
   ]
  },
  {
   "cell_type": "code",
   "execution_count": 13,
   "metadata": {},
   "outputs": [
    {
     "name": "stdout",
     "output_type": "stream",
     "text": [
      "Bihar\n",
      "Assam\n",
      "Delhi\n",
      "Goa\n",
      "kerala\n",
      "sikim\n",
      "Ladakh\n",
      "Haryana\n"
     ]
    }
   ],
   "source": [
    "for item in dict:\n",
    "    print(item)"
   ]
  },
  {
   "cell_type": "code",
   "execution_count": 14,
   "metadata": {},
   "outputs": [
    {
     "data": {
      "text/plain": [
       "['Assam', 'Bihar', 'Delhi', 'Goa', 'Haryana', 'Ladakh', 'kerala', 'sikim']"
      ]
     },
     "execution_count": 14,
     "metadata": {},
     "output_type": "execute_result"
    }
   ],
   "source": [
    "sorted(dict.keys())"
   ]
  },
  {
   "cell_type": "code",
   "execution_count": null,
   "metadata": {},
   "outputs": [],
   "source": []
  }
 ],
 "metadata": {
  "kernelspec": {
   "display_name": "Python 3",
   "language": "python",
   "name": "python3"
  },
  "language_info": {
   "codemirror_mode": {
    "name": "ipython",
    "version": 3
   },
   "file_extension": ".py",
   "mimetype": "text/x-python",
   "name": "python",
   "nbconvert_exporter": "python",
   "pygments_lexer": "ipython3",
   "version": "3.8.3"
  }
 },
 "nbformat": 4,
 "nbformat_minor": 4
}
